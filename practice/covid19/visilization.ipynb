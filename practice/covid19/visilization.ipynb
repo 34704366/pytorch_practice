{
 "cells": [
  {
   "cell_type": "code",
   "execution_count": 2,
   "metadata": {
    "collapsed": true
   },
   "outputs": [
    {
     "name": "stdout",
     "output_type": "stream",
     "text": [
      "1.12.1+cu116\n"
     ]
    }
   ],
   "source": [
    "import torch\n",
    "print(torch.__version__)"
   ]
  },
  {
   "cell_type": "code",
   "execution_count": 15,
   "outputs": [
    {
     "data": {
      "text/plain": "             date       county       state    fips   cases   deaths\n283    2020-02-24  Los Angeles  California  6037.0       1      0.0\n299    2020-02-25  Los Angeles  California  6037.0       1      0.0\n316    2020-02-26  Los Angeles  California  6037.0       1      0.0\n336    2020-02-27  Los Angeles  California  6037.0       1      0.0\n356    2020-02-28  Los Angeles  California  6037.0       1      0.0\n...           ...          ...         ...     ...     ...      ...\n868716 2020-12-27  Los Angeles  California  6037.0  720099   9482.0\n871961 2020-12-28  Los Angeles  California  6037.0  733612   9555.0\n875206 2020-12-29  Los Angeles  California  6037.0  746381   9782.0\n878451 2020-12-30  Los Angeles  California  6037.0  756412  10056.0\n881696 2020-12-31  Los Angeles  California  6037.0  770915  10345.0\n\n[312 rows x 6 columns]",
      "text/html": "<div>\n<style scoped>\n    .dataframe tbody tr th:only-of-type {\n        vertical-align: middle;\n    }\n\n    .dataframe tbody tr th {\n        vertical-align: top;\n    }\n\n    .dataframe thead th {\n        text-align: right;\n    }\n</style>\n<table border=\"1\" class=\"dataframe\">\n  <thead>\n    <tr style=\"text-align: right;\">\n      <th></th>\n      <th>date</th>\n      <th>county</th>\n      <th>state</th>\n      <th>fips</th>\n      <th>cases</th>\n      <th>deaths</th>\n    </tr>\n  </thead>\n  <tbody>\n    <tr>\n      <th>283</th>\n      <td>2020-02-24</td>\n      <td>Los Angeles</td>\n      <td>California</td>\n      <td>6037.0</td>\n      <td>1</td>\n      <td>0.0</td>\n    </tr>\n    <tr>\n      <th>299</th>\n      <td>2020-02-25</td>\n      <td>Los Angeles</td>\n      <td>California</td>\n      <td>6037.0</td>\n      <td>1</td>\n      <td>0.0</td>\n    </tr>\n    <tr>\n      <th>316</th>\n      <td>2020-02-26</td>\n      <td>Los Angeles</td>\n      <td>California</td>\n      <td>6037.0</td>\n      <td>1</td>\n      <td>0.0</td>\n    </tr>\n    <tr>\n      <th>336</th>\n      <td>2020-02-27</td>\n      <td>Los Angeles</td>\n      <td>California</td>\n      <td>6037.0</td>\n      <td>1</td>\n      <td>0.0</td>\n    </tr>\n    <tr>\n      <th>356</th>\n      <td>2020-02-28</td>\n      <td>Los Angeles</td>\n      <td>California</td>\n      <td>6037.0</td>\n      <td>1</td>\n      <td>0.0</td>\n    </tr>\n    <tr>\n      <th>...</th>\n      <td>...</td>\n      <td>...</td>\n      <td>...</td>\n      <td>...</td>\n      <td>...</td>\n      <td>...</td>\n    </tr>\n    <tr>\n      <th>868716</th>\n      <td>2020-12-27</td>\n      <td>Los Angeles</td>\n      <td>California</td>\n      <td>6037.0</td>\n      <td>720099</td>\n      <td>9482.0</td>\n    </tr>\n    <tr>\n      <th>871961</th>\n      <td>2020-12-28</td>\n      <td>Los Angeles</td>\n      <td>California</td>\n      <td>6037.0</td>\n      <td>733612</td>\n      <td>9555.0</td>\n    </tr>\n    <tr>\n      <th>875206</th>\n      <td>2020-12-29</td>\n      <td>Los Angeles</td>\n      <td>California</td>\n      <td>6037.0</td>\n      <td>746381</td>\n      <td>9782.0</td>\n    </tr>\n    <tr>\n      <th>878451</th>\n      <td>2020-12-30</td>\n      <td>Los Angeles</td>\n      <td>California</td>\n      <td>6037.0</td>\n      <td>756412</td>\n      <td>10056.0</td>\n    </tr>\n    <tr>\n      <th>881696</th>\n      <td>2020-12-31</td>\n      <td>Los Angeles</td>\n      <td>California</td>\n      <td>6037.0</td>\n      <td>770915</td>\n      <td>10345.0</td>\n    </tr>\n  </tbody>\n</table>\n<p>312 rows × 6 columns</p>\n</div>"
     },
     "execution_count": 15,
     "metadata": {},
     "output_type": "execute_result"
    }
   ],
   "source": [
    "from pygments.lexers import go\n",
    "import pandas as pd\n",
    "\n",
    "\n",
    "DATA_PATH = \"practice/covid19/dataset/us/\"\n",
    "\n",
    "df_spain = pd.read_csv(DATA_PATH + \"us-counties-2020.csv\", parse_dates=[\"date\"])\n",
    "df_spain = df_spain[(df_spain[\"county\"] == \"Los Angeles\") &\n",
    "                    (df_spain.date >= \"2020-02-24\")]    # because the dataset is constantly being updated\n",
    "df_spain\n",
    "\n",
    "# df_spain = (df_spain\n",
    "#             .loc[:, [\"date\", \"Confirmed\"]]  # only interested in confirmed cases\n",
    "#             .rename(columns={\"Confirmed\": \"TargetValue\"})\n",
    "#             .set_index(\"date\")\n",
    "#             .diff()         # convert to daily cases\n",
    "#             .iloc[1:]       # remove first row, it is NaN due to the .diff()\n",
    "#             .clip(lower=0)) # remove <0 values\n",
    "#\n",
    "# fig = go.Figure()\n",
    "# fig.add_trace(go.Scatter(x=df_spain.index, y=df_spain.TargetValue, mode='lines+markers'))\n",
    "# fig.update_layout(hovermode=\"x\",\n",
    "#                   title=\"Confirmed daily cases in Spain\",\n",
    "#                   xaxis_title=\"Date\",\n",
    "#                   yaxis_title=\"Number of confirmed daily cases\")\n",
    "#\n",
    "# fig.show()"
   ],
   "metadata": {
    "collapsed": false
   }
  },
  {
   "cell_type": "code",
   "execution_count": null,
   "outputs": [],
   "source": [
    "|"
   ],
   "metadata": {
    "collapsed": false,
    "pycharm": {
     "is_executing": true
    }
   }
  },
  {
   "cell_type": "code",
   "execution_count": null,
   "outputs": [],
   "source": [],
   "metadata": {
    "collapsed": false,
    "pycharm": {
     "is_executing": true
    }
   }
  },
  {
   "cell_type": "code",
   "execution_count": 13,
   "outputs": [],
   "source": [],
   "metadata": {
    "collapsed": false
   }
  }
 ],
 "metadata": {
  "kernelspec": {
   "name": "wch",
   "language": "python",
   "display_name": "wch"
  },
  "language_info": {
   "codemirror_mode": {
    "name": "ipython",
    "version": 2
   },
   "file_extension": ".py",
   "mimetype": "text/x-python",
   "name": "python",
   "nbconvert_exporter": "python",
   "pygments_lexer": "ipython2",
   "version": "2.7.6"
  }
 },
 "nbformat": 4,
 "nbformat_minor": 0
}
