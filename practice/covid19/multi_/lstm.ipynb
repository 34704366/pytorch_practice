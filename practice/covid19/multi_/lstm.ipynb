{
 "cells": [
  {
   "cell_type": "code",
   "execution_count": 9,
   "outputs": [],
   "source": [
    "import pandas as pd\n",
    "import sys\n",
    "\n",
    "df = pd.read_csv(\"../dataset/Delaware.csv\")\n",
    "# df = df[df.REGION == \"New York\"]\n",
    "\n",
    "df_use = df[[\"REGION\", \"YEAR\", \"WEEK\", \"ili_ratio\"]]\n",
    "df_use.index = range(len(df_use))\n",
    "\n",
    "df_use = (df_use.loc[:, [\"ili_ratio\"]])  # 只用ili_ratio"
   ],
   "metadata": {
    "collapsed": false
   }
  },
  {
   "cell_type": "code",
   "execution_count": 10,
   "outputs": [
    {
     "data": {
      "text/plain": "     ili_ratio\n0     0.001001\n1     0.003686\n2     0.003370\n3     0.004605\n4     0.002223\n..         ...\n624   0.011423\n625   0.009824\n626   0.009270\n627   0.012565\n628   0.013683\n\n[629 rows x 1 columns]",
      "text/html": "<div>\n<style scoped>\n    .dataframe tbody tr th:only-of-type {\n        vertical-align: middle;\n    }\n\n    .dataframe tbody tr th {\n        vertical-align: top;\n    }\n\n    .dataframe thead th {\n        text-align: right;\n    }\n</style>\n<table border=\"1\" class=\"dataframe\">\n  <thead>\n    <tr style=\"text-align: right;\">\n      <th></th>\n      <th>ili_ratio</th>\n    </tr>\n  </thead>\n  <tbody>\n    <tr>\n      <th>0</th>\n      <td>0.001001</td>\n    </tr>\n    <tr>\n      <th>1</th>\n      <td>0.003686</td>\n    </tr>\n    <tr>\n      <th>2</th>\n      <td>0.003370</td>\n    </tr>\n    <tr>\n      <th>3</th>\n      <td>0.004605</td>\n    </tr>\n    <tr>\n      <th>4</th>\n      <td>0.002223</td>\n    </tr>\n    <tr>\n      <th>...</th>\n      <td>...</td>\n    </tr>\n    <tr>\n      <th>624</th>\n      <td>0.011423</td>\n    </tr>\n    <tr>\n      <th>625</th>\n      <td>0.009824</td>\n    </tr>\n    <tr>\n      <th>626</th>\n      <td>0.009270</td>\n    </tr>\n    <tr>\n      <th>627</th>\n      <td>0.012565</td>\n    </tr>\n    <tr>\n      <th>628</th>\n      <td>0.013683</td>\n    </tr>\n  </tbody>\n</table>\n<p>629 rows × 1 columns</p>\n</div>"
     },
     "execution_count": 10,
     "metadata": {},
     "output_type": "execute_result"
    }
   ],
   "source": [
    "df = pd.read_csv(\"../dataset/Delaware.csv\")\n",
    "# df = df[df.REGION == \"Delaware\"]\n",
    "\n",
    "df_use = df[[\"REGION\", \"YEAR\", \"WEEK\", \"ili_ratio\"]]\n",
    "df_use.index = range(len(df_use))\n",
    "\n",
    "df_use = (df_use.loc[:, [\"ili_ratio\"]])  # 只用ili_ratio\n",
    "df_use"
   ],
   "metadata": {
    "collapsed": false
   }
  },
  {
   "cell_type": "code",
   "execution_count": 11,
   "outputs": [
    {
     "data": {
      "text/plain": "     New_cases\n0           73\n1          133\n2          184\n3          107\n4          410\n..         ...\n655      48473\n656      14684\n657      72634\n658      79567\n659      91288\n\n[660 rows x 1 columns]",
      "text/html": "<div>\n<style scoped>\n    .dataframe tbody tr th:only-of-type {\n        vertical-align: middle;\n    }\n\n    .dataframe tbody tr th {\n        vertical-align: top;\n    }\n\n    .dataframe thead th {\n        text-align: right;\n    }\n</style>\n<table border=\"1\" class=\"dataframe\">\n  <thead>\n    <tr style=\"text-align: right;\">\n      <th></th>\n      <th>New_cases</th>\n    </tr>\n  </thead>\n  <tbody>\n    <tr>\n      <th>0</th>\n      <td>73</td>\n    </tr>\n    <tr>\n      <th>1</th>\n      <td>133</td>\n    </tr>\n    <tr>\n      <th>2</th>\n      <td>184</td>\n    </tr>\n    <tr>\n      <th>3</th>\n      <td>107</td>\n    </tr>\n    <tr>\n      <th>4</th>\n      <td>410</td>\n    </tr>\n    <tr>\n      <th>...</th>\n      <td>...</td>\n    </tr>\n    <tr>\n      <th>655</th>\n      <td>48473</td>\n    </tr>\n    <tr>\n      <th>656</th>\n      <td>14684</td>\n    </tr>\n    <tr>\n      <th>657</th>\n      <td>72634</td>\n    </tr>\n    <tr>\n      <th>658</th>\n      <td>79567</td>\n    </tr>\n    <tr>\n      <th>659</th>\n      <td>91288</td>\n    </tr>\n  </tbody>\n</table>\n<p>660 rows × 1 columns</p>\n</div>"
     },
     "execution_count": 11,
     "metadata": {},
     "output_type": "execute_result"
    }
   ],
   "source": [
    "df = pd.read_csv(\"../dataset/covid19/france_new_cases.csv\")\n",
    "\n",
    "df_use = df[[\"New_cases\"]]\n",
    "df_use = df_use[:660]\n",
    "df_use.index = range(len(df_use))\n",
    "\n",
    "df_use"
   ],
   "metadata": {
    "collapsed": false
   }
  },
  {
   "cell_type": "code",
   "execution_count": 13,
   "outputs": [
    {
     "data": {
      "text/plain": "     New_cases  tavg\n0           73   9.1\n1          133   7.4\n2          184   7.8\n3          107   8.9\n4          410   8.5\n..         ...   ...\n595       5796  14.0\n596       5498  11.2\n597       6058  10.4\n598       6169  10.4\n599       4993  11.9\n\n[600 rows x 2 columns]",
      "text/html": "<div>\n<style scoped>\n    .dataframe tbody tr th:only-of-type {\n        vertical-align: middle;\n    }\n\n    .dataframe tbody tr th {\n        vertical-align: top;\n    }\n\n    .dataframe thead th {\n        text-align: right;\n    }\n</style>\n<table border=\"1\" class=\"dataframe\">\n  <thead>\n    <tr style=\"text-align: right;\">\n      <th></th>\n      <th>New_cases</th>\n      <th>tavg</th>\n    </tr>\n  </thead>\n  <tbody>\n    <tr>\n      <th>0</th>\n      <td>73</td>\n      <td>9.1</td>\n    </tr>\n    <tr>\n      <th>1</th>\n      <td>133</td>\n      <td>7.4</td>\n    </tr>\n    <tr>\n      <th>2</th>\n      <td>184</td>\n      <td>7.8</td>\n    </tr>\n    <tr>\n      <th>3</th>\n      <td>107</td>\n      <td>8.9</td>\n    </tr>\n    <tr>\n      <th>4</th>\n      <td>410</td>\n      <td>8.5</td>\n    </tr>\n    <tr>\n      <th>...</th>\n      <td>...</td>\n      <td>...</td>\n    </tr>\n    <tr>\n      <th>595</th>\n      <td>5796</td>\n      <td>14.0</td>\n    </tr>\n    <tr>\n      <th>596</th>\n      <td>5498</td>\n      <td>11.2</td>\n    </tr>\n    <tr>\n      <th>597</th>\n      <td>6058</td>\n      <td>10.4</td>\n    </tr>\n    <tr>\n      <th>598</th>\n      <td>6169</td>\n      <td>10.4</td>\n    </tr>\n    <tr>\n      <th>599</th>\n      <td>4993</td>\n      <td>11.9</td>\n    </tr>\n  </tbody>\n</table>\n<p>600 rows × 2 columns</p>\n</div>"
     },
     "execution_count": 13,
     "metadata": {},
     "output_type": "execute_result"
    }
   ],
   "source": [
    "df = pd.read_csv(\"../dataset/covid19/france_new_cases _temp.csv\")\n",
    "\n",
    "df_use = df[[\"New_cases\", \"tavg\"]]\n",
    "df_use = df_use[:600]\n",
    "df_use.index = range(len(df_use))\n",
    "\n",
    "df_use"
   ],
   "metadata": {
    "collapsed": false
   }
  },
  {
   "cell_type": "code",
   "execution_count": 6,
   "outputs": [],
   "source": [
    "df = pd.read_csv('../dataset/elec/oneminute.csv')\n",
    "\n",
    "df_use = df[['p']]\n",
    "df_use.index = range(len(df_use))\n",
    "df_use = df_use[:500]"
   ],
   "metadata": {
    "collapsed": false
   }
  },
  {
   "cell_type": "code",
   "execution_count": 60,
   "outputs": [],
   "source": [
    "from torch.utils.data import Dataset as Dataset\n",
    "from torch.utils.data import DataLoader as DataLoader\n",
    "import numpy as np\n",
    "import torch\n",
    "\n",
    "\n",
    "class MyDataset(Dataset):\n",
    "    def __init__(self, data):\n",
    "        self.data = data\n",
    "\n",
    "    def __getitem__(self, item):\n",
    "        return self.data[item]\n",
    "\n",
    "    def __len__(self):\n",
    "        return len(self.data)\n",
    "\n",
    "\n",
    "def nn_seq_us(batch_size, step):\n",
    "    print('data processing...')\n",
    "    dataset = df_use\n",
    "    # split\n",
    "    train = dataset[:int(len(dataset) * 0.6)]\n",
    "    val = dataset[int(len(dataset) * 0.6):int(len(dataset) * 0.85)]\n",
    "    test = dataset[int(len(dataset) * 0.85):len(dataset)]\n",
    "    m, n = np.max(train[train.columns[0]]), np.min(train[train.columns[0]])\n",
    "\n",
    "    def process(data, batch_size, shuffle):\n",
    "        load = data[data.columns[:]]\n",
    "        load = load.values\n",
    "        data = data.values.tolist()\n",
    "        load = (load - n) / (m - n)\n",
    "\n",
    "        # load = data[data.columns[0]]\n",
    "        # load = load.tolist()\n",
    "        # data = data.values.tolist()\n",
    "        # load = (load - n) / (m - n)\n",
    "\n",
    "        seq = []\n",
    "        for i in range(len(data) - step):\n",
    "            train_seq = []\n",
    "            train_label = []\n",
    "            for j in range(i, i + step):\n",
    "                x = [load[j]]\n",
    "                train_seq.append(x)\n",
    "            # for c in range(2, 8):\n",
    "            #     train_seq.append(data[i + step][c])\n",
    "            train_label.append(load[i + step])\n",
    "            train_seq = torch.FloatTensor(train_seq)\n",
    "            train_label = torch.FloatTensor(train_label).view(-1)\n",
    "            seq.append((train_seq, train_label))\n",
    "\n",
    "        # print(seq[-1])\n",
    "        seq = MyDataset(seq)\n",
    "        seq = DataLoader(dataset=seq, batch_size=batch_size, shuffle=shuffle, num_workers=0, drop_last=True)\n",
    "\n",
    "        return seq\n",
    "\n",
    "    data_train = process(train, batch_size, True)\n",
    "    data_validate = process(val, batch_size, True)\n",
    "    data_test = process(test, batch_size, False)\n",
    "\n",
    "    return data_train, data_validate, data_test, m, n\n",
    "\n",
    "\n",
    "import torch.nn as nn\n",
    "\n",
    "\n",
    "class LSTM(nn.Module):\n",
    "    def __init__(self, input_size, hidden_size, num_layers, output_size, batch_size, device):\n",
    "        super().__init__()\n",
    "        self.input_size = input_size\n",
    "        self.hidden_size = hidden_size\n",
    "        self.num_layers = num_layers\n",
    "        self.output_size = output_size\n",
    "        self.num_directions = 1  # 单向LSTM\n",
    "        self.batch_size = batch_size\n",
    "        self.lstm = nn.LSTM(self.input_size, self.hidden_size, self.num_layers, batch_first=True)\n",
    "        self.linear = nn.Linear(self.hidden_size, self.output_size)\n",
    "\n",
    "        self.device = device\n",
    "\n",
    "    def forward(self, input_seq):\n",
    "        batch_size, seq_len = input_seq.shape[0], input_seq.shape[1]\n",
    "        h_0 = torch.randn(self.num_directions * self.num_layers, self.batch_size, self.hidden_size).to(self.device)\n",
    "        c_0 = torch.randn(self.num_directions * self.num_layers, self.batch_size, self.hidden_size).to(self.device)\n",
    "        # output(batch_size, seq_len, num_directions * hidden_size)\n",
    "        output, _ = self.lstm(input_seq, (h_0, c_0))  # output(5, 30, 64)\n",
    "        pred = self.linear(output)  # (5, 30, 1)\n",
    "        pred = pred[:, -1, :]  # (5, 1)\n",
    "        return pred\n",
    "\n",
    "\n",
    "from torch.optim.lr_scheduler import StepLR as StepLR\n",
    "from tqdm import tqdm\n",
    "from copy import deepcopy\n",
    "\n",
    "\n",
    "def get_val_loss(model, Val, loss_function, device):\n",
    "    model.eval()\n",
    "    val_loss = []\n",
    "    for (seq, label) in Val:\n",
    "        seq = seq.to(device)\n",
    "        label = label.to(device)\n",
    "        y_pred = model(seq)\n",
    "        loss = loss_function(y_pred, label)\n",
    "        val_loss.append(loss.item())\n",
    "\n",
    "    return sum(val_loss) / len(val_loss)  # MSE\n",
    "\n",
    "\n",
    "def lstm_train(data_train, Val, path, input_size=1, hidden_size=10, num_layers=2, output_size=1, batch_size=5,\n",
    "               optimizer='adam', max_epochs=20, lr=0.01,\n",
    "               device=torch.device(\"cuda:0\" if torch.cuda.is_available() else \"cpu\")):\n",
    "    weight_decay = 0.0001\n",
    "    step_size = 5\n",
    "    gamma = 0.1\n",
    "\n",
    "    model = LSTM(input_size, hidden_size, num_layers, output_size, batch_size=batch_size, device=device).to(device)\n",
    "\n",
    "    loss_function = nn.MSELoss().to(device)\n",
    "    if optimizer == 'adam':\n",
    "        optimizer = torch.optim.Adam(model.parameters(), lr=lr,\n",
    "                                     weight_decay=weight_decay)\n",
    "    else:\n",
    "        optimizer = torch.optim.SGD(model.parameters(), lr=lr,\n",
    "                                    momentum=0.9, weight_decay=weight_decay)\n",
    "    scheduler = StepLR(optimizer, step_size=step_size, gamma=gamma)\n",
    "    # training\n",
    "    min_epochs = 10\n",
    "    best_model = None\n",
    "    min_val_loss = 5\n",
    "\n",
    "    min_train_loss = 10086\n",
    "    loss = 10\n",
    "\n",
    "    for epoch in range(max_epochs):\n",
    "        train_loss = []\n",
    "        for (seq, label) in data_train:\n",
    "            seq = seq.to(device)\n",
    "            seq.resize_(batch_size, step, input_size)  # (1, 18, 1, 2) -> (1, 18, 2)\n",
    "\n",
    "            label = label.to(device)\n",
    "            y_pred = model(seq)\n",
    "\n",
    "            loss = loss_function(y_pred, label[:, 0].unsqueeze(1))\n",
    "            train_loss.append(loss.item())\n",
    "            optimizer.zero_grad()\n",
    "            loss.backward()\n",
    "            optimizer.step()\n",
    "\n",
    "        scheduler.step()\n",
    "\n",
    "        # # validation\n",
    "        # val_loss = get_val_loss(model, Val, loss_function, device)\n",
    "        # if epoch > min_epochs and val_loss < min_val_loss:\n",
    "        #     min_val_loss = val_loss\n",
    "        #     best_model = deepcopy(model)\n",
    "        #\n",
    "        # if epoch % 10 == 0:\n",
    "        #     print('epoch {:03d} train_loss {:.8f} val_loss {:.8f}'.format(epoch, np.mean(train_loss), val_loss))\n",
    "\n",
    "        if epoch > min_epochs and loss < min_train_loss:\n",
    "            min_train_loss = loss\n",
    "            best_model = deepcopy(model)\n",
    "            print(type(model))\n",
    "\n",
    "        if epoch % 10 == 0:\n",
    "            print('epoch {:03d} train_loss {:.8f}'.format(epoch, np.mean(train_loss)))\n",
    "\n",
    "        model.train()\n",
    "\n",
    "    state = {'models': best_model.state_dict()}\n",
    "    torch.save(state, path)\n",
    "\n",
    "\n",
    "from itertools import chain\n",
    "import matplotlib.pyplot as plt\n",
    "from scipy.interpolate import make_interp_spline\n",
    "\n",
    "\n",
    "def get_mse(y_true, y_pred):\n",
    "    y_true, y_pred = np.array(y_true), np.array(y_pred)\n",
    "    return np.sum((y_true - y_pred) ** 2) / len(y_true)\n",
    "\n",
    "\n",
    "def get_mape(y_true, y_pred):\n",
    "    \"\"\"\n",
    "    Compute mean absolute percentage error (MAPE)\n",
    "    \"\"\"\n",
    "    y_true, y_pred = np.array(y_true), np.array(y_pred)\n",
    "    return np.mean(np.abs((y_true - y_pred) / y_true)) * 100\n",
    "\n",
    "\n",
    "# def lstm_test(data_test, path, m, n, input_size = 1,  hidden_size = 10, num_layers = 2, output_size = 1, batch_size = 5, device = torch.device('cpu')):\n",
    "def lstm_test(data_test, path, m, n, input_size, hidden_size, num_layers, output_size, batch_size, device):\n",
    "    pred = []\n",
    "    y = []\n",
    "    print('loading models...')\n",
    "\n",
    "    model = LSTM(input_size, hidden_size, num_layers, output_size, batch_size=batch_size, device=device).to(device)\n",
    "    model.load_state_dict(torch.load(path)['models'])\n",
    "    model.eval()\n",
    "    print('predicting...')\n",
    "    for (seq, target) in data_test:\n",
    "        target = list(chain.from_iterable(target[:, 0].unsqueeze(1).data.tolist()))\n",
    "        y.extend(target)\n",
    "        seq = seq.to(device)\n",
    "        seq.resize_(batch_size, step, input_size)\n",
    "        with torch.no_grad():\n",
    "            y_pred = model(seq)\n",
    "            y_pred = list(chain.from_iterable(y_pred.data.tolist()))\n",
    "            pred.extend(y_pred)\n",
    "\n",
    "    y, pred = np.array(y), np.array(pred)\n",
    "    y = (m - n) * y + n\n",
    "    pred = (m - n) * pred + n\n",
    "    print('mape:', get_mape(y, pred))\n",
    "    print('mse:', get_mse(y, pred))\n",
    "\n",
    "    # plot\n",
    "    x = [i for i in range(1, y.shape[0] + 1)]\n",
    "    x_smooth = np.linspace(np.min(x), np.max(x), 900)\n",
    "    y_smooth = make_interp_spline(x, y)(x_smooth)\n",
    "    plt.plot(x_smooth, y_smooth, c='green', marker='*', ms=1, alpha=0.75, label='true')\n",
    "\n",
    "    y_smooth = make_interp_spline(x, pred)(x_smooth)\n",
    "    plt.plot(x_smooth, y_smooth, c='red', marker='o', ms=1, alpha=0.75, label='pred')\n",
    "    plt.grid(axis='y')\n",
    "    plt.legend()\n",
    "    # plt.savefig(\"./new.png\")\n",
    "    plt.show()\n",
    "\n",
    "\n",
    "def future_lstm_test(data_test, path, m, n, input_size, hidden_size, num_layers, output_size, batch_size, device):\n",
    "    predict_length = 30\n",
    "    pred = []\n",
    "    y = []\n",
    "    print('loading models...')\n",
    "\n",
    "    model = LSTM(input_size, hidden_size, num_layers, output_size, batch_size=batch_size, device=device).to(device)\n",
    "    model.load_state_dict(torch.load(path)['models'])\n",
    "    model.eval()\n",
    "    print('predicting...')\n",
    "\n",
    "    y_pred = 0\n",
    "    seq = []\n",
    "    label = []\n",
    "    ss = [(seq, target) for (seq, target) in data_test]\n",
    "    # print(ss)\n",
    "\n",
    "    # ss = []\n",
    "    # for (seq, target) in data_test:\n",
    "    #     target = list(chain.from_iterable(target[:, 0].unsqueeze(1).data.tolist()))\n",
    "    #     ss.append((ss, seq))\n",
    "\n",
    "    for i in range(len(ss)):\n",
    "        label.append(ss[i][1][0])\n",
    "\n",
    "    y = label\n",
    "\n",
    "    # label = list(chain.from_iterable(label.tolist()))\n",
    "    ss = ss[0]\n",
    "    # print(ss)\n",
    "    for i in range(predict_length):\n",
    "\n",
    "        seq = ss[0]\n",
    "        seq.resize_(batch_size, step, input_size)\n",
    "\n",
    "        with torch.no_grad():\n",
    "            y_pred = model(seq)\n",
    "            # print(f'seq{seq};')\n",
    "            for i in range(len(seq[0]) - 1):\n",
    "                seq[0][i] = seq[0][i + 1]\n",
    "            seq[0][-1] = y_pred\n",
    "            # print(f'pred: {y_pred}')\n",
    "            y_pred = list(chain.from_iterable(y_pred.data.tolist()))\n",
    "            pred.extend(y_pred)\n",
    "\n",
    "    # print(f'y_pred is {y_pred}')\n",
    "\n",
    "    y = []\n",
    "    for i in range(len(label)):\n",
    "        y.append(label[i].detach().numpy()[0])\n",
    "\n",
    "    y, pred = np.array(y), np.array(pred)\n",
    "    y = (m - n) * y + n\n",
    "    pred = (m - n) * pred + n\n",
    "    # print('mape:', get_mape(y, pred))\n",
    "    # print('mse:', get_mse(y, pred))\n",
    "    print(len(y))\n",
    "    print(len(pred))\n",
    "\n",
    "    # plot\n",
    "    # x = [i for i in range(1, y.shape[0] + 1)]\n",
    "    x = [i for i in range(1, predict_length + 1)]\n",
    "    x_smooth = np.linspace(np.min(x), np.max(x), 900)\n",
    "    y_smooth = make_interp_spline(x, y[:predict_length])(x_smooth)\n",
    "    plt.plot(x_smooth, y_smooth, c='green', marker='*', ms=1, alpha=0.75, label='true')\n",
    "\n",
    "    # x = [i for i in range(1, pred.shape[0] + 1)]\n",
    "    x = [i for i in range(1, predict_length + 1)]\n",
    "    y_smooth = make_interp_spline(x, pred[:predict_length])(x_smooth)\n",
    "    plt.plot(x_smooth, y_smooth, c='red', marker='o', ms=1, alpha=0.75, label='pred')\n",
    "    plt.grid(axis='y')\n",
    "    plt.legend()\n",
    "    # plt.savefig(\"./new.png\")\n",
    "    plt.show()\n",
    "\n"
   ],
   "metadata": {
    "collapsed": false
   }
  },
  {
   "cell_type": "code",
   "execution_count": 55,
   "outputs": [
    {
     "name": "stdout",
     "output_type": "stream",
     "text": [
      "cpu\n",
      "data processing...\n",
      "epoch 000 train_loss 0.03992418\n",
      "epoch 010 train_loss 0.01310721\n",
      "<class '__main__.LSTM'>\n",
      "<class '__main__.LSTM'>\n",
      "<class '__main__.LSTM'>\n",
      "epoch 020 train_loss 0.01275033\n",
      "epoch 030 train_loss 0.01274781\n",
      "epoch 040 train_loss 0.01274755\n"
     ]
    }
   ],
   "source": [
    "input_size = 2\n",
    "hidden_size = 64\n",
    "num_layers = 2\n",
    "output_size = 1\n",
    "batch_size = 1\n",
    "optimizer = 'adam'\n",
    "max_epochs = 50\n",
    "# lr = 0.05\n",
    "lr = 0.01  # mape:14.~    train_loss: 0.0037~\n",
    "\n",
    "step = 24\n",
    "\n",
    "device = torch.device(\"cuda:0\" if torch.cuda.is_available() else \"cpu\")\n",
    "\n",
    "print(device)\n",
    "\n",
    "model_path = '../lstm_model/best_model_lstm.model'\n",
    "\n",
    "data_train, data_validate, data_test, m, n = nn_seq_us(batch_size=batch_size, step=step)\n",
    "\n",
    "lstm_train(data_train, data_validate, model_path, input_size, hidden_size, num_layers, output_size, batch_size,\n",
    "           optimizer, max_epochs, lr, device)"
   ],
   "metadata": {
    "collapsed": false
   }
  },
  {
   "cell_type": "code",
   "execution_count": 56,
   "outputs": [
    {
     "name": "stdout",
     "output_type": "stream",
     "text": [
      "loading models...\n",
      "predicting...\n",
      "mape: 143.48495176085336\n",
      "mse: 15854445.599661337\n"
     ]
    },
    {
     "data": {
      "text/plain": "<Figure size 432x288 with 1 Axes>",
      "image/png": "[encoded data removed]"
     },
     "metadata": {
      "needs_background": "light"
     },
     "output_type": "display_data"
    }
   ],
   "source": [
    "lstm_test(data_test, model_path, m, n, input_size, hidden_size, num_layers, output_size, batch_size, device)"
   ],
   "metadata": {
    "collapsed": false
   }
  },
  {
   "cell_type": "code",
   "execution_count": 61,
   "outputs": [
    {
     "name": "stdout",
     "output_type": "stream",
     "text": [
      "loading models...\n",
      "predicting...\n",
      "66\n",
      "30\n"
     ]
    },
    {
     "data": {
      "text/plain": "<Figure size 432x288 with 1 Axes>",
      "image/png": "[encoded data removed]"
     },
     "metadata": {
      "needs_background": "light"
     },
     "output_type": "display_data"
    }
   ],
   "source": [
    "future_lstm_test(data_test, model_path, m, n, input_size, hidden_size, num_layers, output_size, batch_size, device)"
   ],
   "metadata": {
    "collapsed": false
   }
  },
  {
   "cell_type": "code",
   "execution_count": null,
   "outputs": [],
   "source": [],
   "metadata": {
    "collapsed": false
   }
  }
 ],
 "metadata": {
  "kernelspec": {
   "display_name": "Python 3",
   "language": "python",
   "name": "python3"
  },
  "language_info": {
   "codemirror_mode": {
    "name": "ipython",
    "version": 2
   },
   "file_extension": ".py",
   "mimetype": "text/x-python",
   "name": "python",
   "nbconvert_exporter": "python",
   "pygments_lexer": "ipython2",
   "version": "2.7.6"
  }
 },
 "nbformat": 4,
 "nbformat_minor": 0
}
