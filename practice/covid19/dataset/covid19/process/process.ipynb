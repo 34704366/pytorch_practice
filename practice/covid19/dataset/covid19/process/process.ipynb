{
 "cells": [
  {
   "cell_type": "code",
   "execution_count": 4,
   "metadata": {
    "collapsed": true
   },
   "outputs": [],
   "source": [
    "import os\n",
    "\n",
    "import numpy as np\n",
    "import pandas as pd\n"
   ]
  },
  {
   "cell_type": "code",
   "execution_count": 8,
   "outputs": [
    {
     "data": {
      "text/plain": "    Date_reported Country  New_cases\n0      2020-03-05  France         73\n1      2020-03-06  France        133\n2      2020-03-07  France        184\n3      2020-03-08  France        107\n4      2020-03-09  France        410\n..            ...     ...        ...\n991    2022-11-21  France      14204\n992    2022-11-22  France       6766\n993    2022-11-23  France      64772\n994    2022-11-24  France      49188\n995    2022-11-25  France      49808\n\n[996 rows x 3 columns]",
      "text/html": "<div>\n<style scoped>\n    .dataframe tbody tr th:only-of-type {\n        vertical-align: middle;\n    }\n\n    .dataframe tbody tr th {\n        vertical-align: top;\n    }\n\n    .dataframe thead th {\n        text-align: right;\n    }\n</style>\n<table border=\"1\" class=\"dataframe\">\n  <thead>\n    <tr style=\"text-align: right;\">\n      <th></th>\n      <th>Date_reported</th>\n      <th>Country</th>\n      <th>New_cases</th>\n    </tr>\n  </thead>\n  <tbody>\n    <tr>\n      <th>0</th>\n      <td>2020-03-05</td>\n      <td>France</td>\n      <td>73</td>\n    </tr>\n    <tr>\n      <th>1</th>\n      <td>2020-03-06</td>\n      <td>France</td>\n      <td>133</td>\n    </tr>\n    <tr>\n      <th>2</th>\n      <td>2020-03-07</td>\n      <td>France</td>\n      <td>184</td>\n    </tr>\n    <tr>\n      <th>3</th>\n      <td>2020-03-08</td>\n      <td>France</td>\n      <td>107</td>\n    </tr>\n    <tr>\n      <th>4</th>\n      <td>2020-03-09</td>\n      <td>France</td>\n      <td>410</td>\n    </tr>\n    <tr>\n      <th>...</th>\n      <td>...</td>\n      <td>...</td>\n      <td>...</td>\n    </tr>\n    <tr>\n      <th>991</th>\n      <td>2022-11-21</td>\n      <td>France</td>\n      <td>14204</td>\n    </tr>\n    <tr>\n      <th>992</th>\n      <td>2022-11-22</td>\n      <td>France</td>\n      <td>6766</td>\n    </tr>\n    <tr>\n      <th>993</th>\n      <td>2022-11-23</td>\n      <td>France</td>\n      <td>64772</td>\n    </tr>\n    <tr>\n      <th>994</th>\n      <td>2022-11-24</td>\n      <td>France</td>\n      <td>49188</td>\n    </tr>\n    <tr>\n      <th>995</th>\n      <td>2022-11-25</td>\n      <td>France</td>\n      <td>49808</td>\n    </tr>\n  </tbody>\n</table>\n<p>996 rows × 3 columns</p>\n</div>"
     },
     "execution_count": 8,
     "metadata": {},
     "output_type": "execute_result"
    }
   ],
   "source": [
    "path = './WHO-COVID-19-global-data.csv'\n",
    "# path = './practice/covid19/dataset/covid19/process/'\n",
    "\n",
    "df = pd.read_csv(path)\n",
    "\n",
    "# 只要 时间 地区 新增确诊人数\n",
    "df = df[[\"Date_reported\", \"Country\", \"New_cases\"]]\n",
    "df_use = df[df[\"Country\"] == \"France\"]\n",
    "df_use = df_use[62:]\n",
    "df_use.index = range(len(df_use))\n",
    "# 保存\n",
    "df_use.to_csv('../france_new_cases.csv')\n",
    "df_use"
   ],
   "metadata": {
    "collapsed": false
   }
  },
  {
   "cell_type": "code",
   "execution_count": 6,
   "outputs": [
    {
     "data": {
      "text/plain": "    Date_reported Country  New_cases\n0      2020-03-05  France         73\n1      2020-03-06  France        133\n2      2020-03-07  France        184\n3      2020-03-08  France        107\n4      2020-03-09  France        410\n..            ...     ...        ...\n991    2022-11-21  France      14204\n992    2022-11-22  France       6766\n993    2022-11-23  France      64772\n994    2022-11-24  France      49188\n995    2022-11-25  France      49808\n\n[996 rows x 3 columns]",
      "text/html": "<div>\n<style scoped>\n    .dataframe tbody tr th:only-of-type {\n        vertical-align: middle;\n    }\n\n    .dataframe tbody tr th {\n        vertical-align: top;\n    }\n\n    .dataframe thead th {\n        text-align: right;\n    }\n</style>\n<table border=\"1\" class=\"dataframe\">\n  <thead>\n    <tr style=\"text-align: right;\">\n      <th></th>\n      <th>Date_reported</th>\n      <th>Country</th>\n      <th>New_cases</th>\n    </tr>\n  </thead>\n  <tbody>\n    <tr>\n      <th>0</th>\n      <td>2020-03-05</td>\n      <td>France</td>\n      <td>73</td>\n    </tr>\n    <tr>\n      <th>1</th>\n      <td>2020-03-06</td>\n      <td>France</td>\n      <td>133</td>\n    </tr>\n    <tr>\n      <th>2</th>\n      <td>2020-03-07</td>\n      <td>France</td>\n      <td>184</td>\n    </tr>\n    <tr>\n      <th>3</th>\n      <td>2020-03-08</td>\n      <td>France</td>\n      <td>107</td>\n    </tr>\n    <tr>\n      <th>4</th>\n      <td>2020-03-09</td>\n      <td>France</td>\n      <td>410</td>\n    </tr>\n    <tr>\n      <th>...</th>\n      <td>...</td>\n      <td>...</td>\n      <td>...</td>\n    </tr>\n    <tr>\n      <th>991</th>\n      <td>2022-11-21</td>\n      <td>France</td>\n      <td>14204</td>\n    </tr>\n    <tr>\n      <th>992</th>\n      <td>2022-11-22</td>\n      <td>France</td>\n      <td>6766</td>\n    </tr>\n    <tr>\n      <th>993</th>\n      <td>2022-11-23</td>\n      <td>France</td>\n      <td>64772</td>\n    </tr>\n    <tr>\n      <th>994</th>\n      <td>2022-11-24</td>\n      <td>France</td>\n      <td>49188</td>\n    </tr>\n    <tr>\n      <th>995</th>\n      <td>2022-11-25</td>\n      <td>France</td>\n      <td>49808</td>\n    </tr>\n  </tbody>\n</table>\n<p>996 rows × 3 columns</p>\n</div>"
     },
     "execution_count": 6,
     "metadata": {},
     "output_type": "execute_result"
    }
   ],
   "source": [
    "df_use = df[df[\"Country\"] == \"France\"]\n",
    "df_use = df_use[62:]\n",
    "df_use.index = range(len(df_use))\n",
    "# 保存\n",
    "df_use.to_csv('../france_new_cases.csv')\n",
    "df_use"
   ],
   "metadata": {
    "collapsed": false
   }
  },
  {
   "cell_type": "code",
   "execution_count": 9,
   "outputs": [
    {
     "data": {
      "text/plain": "    Date_reported Country  New_cases\n0      2020-03-05  France         73\n1      2020-03-06  France        133\n2      2020-03-07  France        184\n3      2020-03-08  France        107\n4      2020-03-09  France        410\n..            ...     ...        ...\n991    2022-11-21  France      14204\n992    2022-11-22  France       6766\n993    2022-11-23  France      64772\n994    2022-11-24  France      49188\n995    2022-11-25  France      49808\n\n[996 rows x 3 columns]",
      "text/html": "<div>\n<style scoped>\n    .dataframe tbody tr th:only-of-type {\n        vertical-align: middle;\n    }\n\n    .dataframe tbody tr th {\n        vertical-align: top;\n    }\n\n    .dataframe thead th {\n        text-align: right;\n    }\n</style>\n<table border=\"1\" class=\"dataframe\">\n  <thead>\n    <tr style=\"text-align: right;\">\n      <th></th>\n      <th>Date_reported</th>\n      <th>Country</th>\n      <th>New_cases</th>\n    </tr>\n  </thead>\n  <tbody>\n    <tr>\n      <th>0</th>\n      <td>2020-03-05</td>\n      <td>France</td>\n      <td>73</td>\n    </tr>\n    <tr>\n      <th>1</th>\n      <td>2020-03-06</td>\n      <td>France</td>\n      <td>133</td>\n    </tr>\n    <tr>\n      <th>2</th>\n      <td>2020-03-07</td>\n      <td>France</td>\n      <td>184</td>\n    </tr>\n    <tr>\n      <th>3</th>\n      <td>2020-03-08</td>\n      <td>France</td>\n      <td>107</td>\n    </tr>\n    <tr>\n      <th>4</th>\n      <td>2020-03-09</td>\n      <td>France</td>\n      <td>410</td>\n    </tr>\n    <tr>\n      <th>...</th>\n      <td>...</td>\n      <td>...</td>\n      <td>...</td>\n    </tr>\n    <tr>\n      <th>991</th>\n      <td>2022-11-21</td>\n      <td>France</td>\n      <td>14204</td>\n    </tr>\n    <tr>\n      <th>992</th>\n      <td>2022-11-22</td>\n      <td>France</td>\n      <td>6766</td>\n    </tr>\n    <tr>\n      <th>993</th>\n      <td>2022-11-23</td>\n      <td>France</td>\n      <td>64772</td>\n    </tr>\n    <tr>\n      <th>994</th>\n      <td>2022-11-24</td>\n      <td>France</td>\n      <td>49188</td>\n    </tr>\n    <tr>\n      <th>995</th>\n      <td>2022-11-25</td>\n      <td>France</td>\n      <td>49808</td>\n    </tr>\n  </tbody>\n</table>\n<p>996 rows × 3 columns</p>\n</div>"
     },
     "execution_count": 9,
     "metadata": {},
     "output_type": "execute_result"
    }
   ],
   "source": [
    "\n",
    "df_use = df[df[\"Country\"] == \"France\"]\n",
    "df_use = df_use[62:]\n",
    "df_use.index = range(len(df_use))\n",
    "# 保存\n",
    "df_use.to_csv('../Luxembourg_new_cases.csv')\n",
    "df_use"
   ],
   "metadata": {
    "collapsed": false
   }
  },
  {
   "cell_type": "code",
   "execution_count": 30,
   "outputs": [
    {
     "data": {
      "text/plain": "    Date_reported       Country  New_cases\n0      2020-03-05  South Africa          0\n1      2020-03-06  South Africa          1\n2      2020-03-07  South Africa          0\n3      2020-03-08  South Africa          1\n4      2020-03-09  South Africa          1\n..            ...           ...        ...\n991    2022-11-21  South Africa          0\n992    2022-11-22  South Africa        900\n993    2022-11-23  South Africa          0\n994    2022-11-24  South Africa          0\n995    2022-11-25  South Africa          0\n\n[996 rows x 3 columns]",
      "text/html": "<div>\n<style scoped>\n    .dataframe tbody tr th:only-of-type {\n        vertical-align: middle;\n    }\n\n    .dataframe tbody tr th {\n        vertical-align: top;\n    }\n\n    .dataframe thead th {\n        text-align: right;\n    }\n</style>\n<table border=\"1\" class=\"dataframe\">\n  <thead>\n    <tr style=\"text-align: right;\">\n      <th></th>\n      <th>Date_reported</th>\n      <th>Country</th>\n      <th>New_cases</th>\n    </tr>\n  </thead>\n  <tbody>\n    <tr>\n      <th>0</th>\n      <td>2020-03-05</td>\n      <td>South Africa</td>\n      <td>0</td>\n    </tr>\n    <tr>\n      <th>1</th>\n      <td>2020-03-06</td>\n      <td>South Africa</td>\n      <td>1</td>\n    </tr>\n    <tr>\n      <th>2</th>\n      <td>2020-03-07</td>\n      <td>South Africa</td>\n      <td>0</td>\n    </tr>\n    <tr>\n      <th>3</th>\n      <td>2020-03-08</td>\n      <td>South Africa</td>\n      <td>1</td>\n    </tr>\n    <tr>\n      <th>4</th>\n      <td>2020-03-09</td>\n      <td>South Africa</td>\n      <td>1</td>\n    </tr>\n    <tr>\n      <th>...</th>\n      <td>...</td>\n      <td>...</td>\n      <td>...</td>\n    </tr>\n    <tr>\n      <th>991</th>\n      <td>2022-11-21</td>\n      <td>South Africa</td>\n      <td>0</td>\n    </tr>\n    <tr>\n      <th>992</th>\n      <td>2022-11-22</td>\n      <td>South Africa</td>\n      <td>900</td>\n    </tr>\n    <tr>\n      <th>993</th>\n      <td>2022-11-23</td>\n      <td>South Africa</td>\n      <td>0</td>\n    </tr>\n    <tr>\n      <th>994</th>\n      <td>2022-11-24</td>\n      <td>South Africa</td>\n      <td>0</td>\n    </tr>\n    <tr>\n      <th>995</th>\n      <td>2022-11-25</td>\n      <td>South Africa</td>\n      <td>0</td>\n    </tr>\n  </tbody>\n</table>\n<p>996 rows × 3 columns</p>\n</div>"
     },
     "execution_count": 30,
     "metadata": {},
     "output_type": "execute_result"
    }
   ],
   "source": [
    "df_use = df[df[\"Country\"] == \"South Africa\"]\n",
    "df_use = df_use[62:]\n",
    "df_use.index = range(len(df_use))\n",
    "# 保存\n",
    "df_use.to_csv('../South_Africa_new_cases.csv')\n",
    "df_use"
   ],
   "metadata": {
    "collapsed": false
   }
  },
  {
   "cell_type": "code",
   "execution_count": 11,
   "outputs": [
    {
     "data": {
      "text/plain": "    Date_reported Country  Cumulative_cases\n0      2020-03-05  France               282\n1      2020-03-06  France               415\n2      2020-03-07  France               599\n3      2020-03-08  France               706\n4      2020-03-09  France              1116\n..            ...     ...               ...\n991    2022-11-21  France          36298382\n992    2022-11-22  France          36305148\n993    2022-11-23  France          36369920\n994    2022-11-24  France          36419108\n995    2022-11-25  France          36468916\n\n[996 rows x 3 columns]",
      "text/html": "<div>\n<style scoped>\n    .dataframe tbody tr th:only-of-type {\n        vertical-align: middle;\n    }\n\n    .dataframe tbody tr th {\n        vertical-align: top;\n    }\n\n    .dataframe thead th {\n        text-align: right;\n    }\n</style>\n<table border=\"1\" class=\"dataframe\">\n  <thead>\n    <tr style=\"text-align: right;\">\n      <th></th>\n      <th>Date_reported</th>\n      <th>Country</th>\n      <th>Cumulative_cases</th>\n    </tr>\n  </thead>\n  <tbody>\n    <tr>\n      <th>0</th>\n      <td>2020-03-05</td>\n      <td>France</td>\n      <td>282</td>\n    </tr>\n    <tr>\n      <th>1</th>\n      <td>2020-03-06</td>\n      <td>France</td>\n      <td>415</td>\n    </tr>\n    <tr>\n      <th>2</th>\n      <td>2020-03-07</td>\n      <td>France</td>\n      <td>599</td>\n    </tr>\n    <tr>\n      <th>3</th>\n      <td>2020-03-08</td>\n      <td>France</td>\n      <td>706</td>\n    </tr>\n    <tr>\n      <th>4</th>\n      <td>2020-03-09</td>\n      <td>France</td>\n      <td>1116</td>\n    </tr>\n    <tr>\n      <th>...</th>\n      <td>...</td>\n      <td>...</td>\n      <td>...</td>\n    </tr>\n    <tr>\n      <th>991</th>\n      <td>2022-11-21</td>\n      <td>France</td>\n      <td>36298382</td>\n    </tr>\n    <tr>\n      <th>992</th>\n      <td>2022-11-22</td>\n      <td>France</td>\n      <td>36305148</td>\n    </tr>\n    <tr>\n      <th>993</th>\n      <td>2022-11-23</td>\n      <td>France</td>\n      <td>36369920</td>\n    </tr>\n    <tr>\n      <th>994</th>\n      <td>2022-11-24</td>\n      <td>France</td>\n      <td>36419108</td>\n    </tr>\n    <tr>\n      <th>995</th>\n      <td>2022-11-25</td>\n      <td>France</td>\n      <td>36468916</td>\n    </tr>\n  </tbody>\n</table>\n<p>996 rows × 3 columns</p>\n</div>"
     },
     "execution_count": 11,
     "metadata": {},
     "output_type": "execute_result"
    }
   ],
   "source": [
    "path = './WHO-COVID-19-global-data.csv'\n",
    "# path = './practice/covid19/dataset/covid19/process/'\n",
    "\n",
    "df = pd.read_csv(path)\n",
    "\n",
    "# 只要 时间 地区 新增确诊人数\n",
    "df = df[[\"Date_reported\", \"Country\", \"Cumulative_cases\"]]\n",
    "\n",
    "df_use = df[df[\"Country\"] == \"France\"]\n",
    "df_use = df_use[62:]\n",
    "df_use.index = range(len(df_use))\n",
    "# 保存\n",
    "df_use.to_csv('../france_cum_cases.csv')\n",
    "df_use"
   ],
   "metadata": {
    "collapsed": false
   }
  },
  {
   "cell_type": "code",
   "execution_count": null,
   "outputs": [],
   "source": [],
   "metadata": {
    "collapsed": false
   }
  }
 ],
 "metadata": {
  "kernelspec": {
   "display_name": "Python 3",
   "language": "python",
   "name": "python3"
  },
  "language_info": {
   "codemirror_mode": {
    "name": "ipython",
    "version": 2
   },
   "file_extension": ".py",
   "mimetype": "text/x-python",
   "name": "python",
   "nbconvert_exporter": "python",
   "pygments_lexer": "ipython2",
   "version": "2.7.6"
  }
 },
 "nbformat": 4,
 "nbformat_minor": 0
}
