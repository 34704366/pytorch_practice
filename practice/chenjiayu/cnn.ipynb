{
 "cells": [
  {
   "cell_type": "code",
   "execution_count": 1,
   "outputs": [
    {
     "data": {
      "text/plain": "      Yield\n0      0.47\n1      0.47\n2      0.45\n3      0.47\n4      0.45\n...     ...\n2995   0.26\n2996   0.29\n2997   0.26\n2998   0.27\n2999   0.27\n\n[3000 rows x 1 columns]",
      "text/html": "<div>\n<style scoped>\n    .dataframe tbody tr th:only-of-type {\n        vertical-align: middle;\n    }\n\n    .dataframe tbody tr th {\n        vertical-align: top;\n    }\n\n    .dataframe thead th {\n        text-align: right;\n    }\n</style>\n<table border=\"1\" class=\"dataframe\">\n  <thead>\n    <tr style=\"text-align: right;\">\n      <th></th>\n      <th>Yield</th>\n    </tr>\n  </thead>\n  <tbody>\n    <tr>\n      <th>0</th>\n      <td>0.47</td>\n    </tr>\n    <tr>\n      <th>1</th>\n      <td>0.47</td>\n    </tr>\n    <tr>\n      <th>2</th>\n      <td>0.45</td>\n    </tr>\n    <tr>\n      <th>3</th>\n      <td>0.47</td>\n    </tr>\n    <tr>\n      <th>4</th>\n      <td>0.45</td>\n    </tr>\n    <tr>\n      <th>...</th>\n      <td>...</td>\n    </tr>\n    <tr>\n      <th>2995</th>\n      <td>0.26</td>\n    </tr>\n    <tr>\n      <th>2996</th>\n      <td>0.29</td>\n    </tr>\n    <tr>\n      <th>2997</th>\n      <td>0.26</td>\n    </tr>\n    <tr>\n      <th>2998</th>\n      <td>0.27</td>\n    </tr>\n    <tr>\n      <th>2999</th>\n      <td>0.27</td>\n    </tr>\n  </tbody>\n</table>\n<p>3000 rows × 1 columns</p>\n</div>"
     },
     "execution_count": 1,
     "metadata": {},
     "output_type": "execute_result"
    }
   ],
   "source": [
    "import pandas as pd\n",
    "import sys\n",
    "df = pd.read_csv('./american_1.csv')\n",
    "df_use = df[['Yield']]\n",
    "df_use = df_use[5000:8000]\n",
    "df_use.index = range(len(df_use))\n",
    "\n",
    "df_use"
   ],
   "metadata": {
    "collapsed": false
   }
  },
  {
   "cell_type": "code",
   "execution_count": 2,
   "outputs": [],
   "source": [
    "import torch\n",
    "import torch.nn as nn\n",
    "\n",
    "\n",
    "class CNN(nn.Module):\n",
    "    def __init__(self, device):\n",
    "        super(CNN, self).__init__()\n",
    "        self.relu = nn.ReLU(inplace=True)\n",
    "        self.conv1 = nn.Sequential(\n",
    "            nn.Conv1d(in_channels=1, out_channels=16, kernel_size=2),  # 24 - 2 + 1 = 23\n",
    "            nn.ReLU(),\n",
    "            nn.MaxPool1d(kernel_size=2, stride=1),  # 23 - 2 + 1 = 22\n",
    "        )\n",
    "        self.conv2 = nn.Sequential(\n",
    "            nn.Conv1d(in_channels=16, out_channels=32, kernel_size=2),  # 22 - 2 + 1 = 21\n",
    "            nn.ReLU(),\n",
    "            nn.MaxPool1d(kernel_size=2, stride=1),  # 21 - 2 + 1 = 20\n",
    "        )\n",
    "        self.Linear1 = nn.Linear(32 * 20, 50)\n",
    "        self.Linear2 = nn.Linear(50, 1)\n",
    "        self.device = device\n",
    "\n",
    "    def forward(self, x):\n",
    "        x = x.permute(0, 2, 1)\n",
    "        # print(x.size())  # 15 127 20\n",
    "        x.to(self.device)\n",
    "        x = self.conv1(x)\n",
    "        x = self.conv2(x)\n",
    "        x = x.view(x.size(0), -1)\n",
    "        # print(x.size())\n",
    "        x = self.Linear1(x)\n",
    "        x = self.relu(x)\n",
    "        x = self.Linear2(x)\n",
    "        x = x.view(x.shape[0], -1)\n",
    "\n",
    "        return x"
   ],
   "metadata": {
    "collapsed": false
   }
  },
  {
   "cell_type": "code",
   "execution_count": 3,
   "outputs": [],
   "source": [
    "from torch.utils.data import Dataset as Dataset\n",
    "from torch.utils.data import DataLoader as DataLoader\n",
    "import numpy as np\n",
    "import torch\n",
    "\n",
    "class MyDataset(Dataset):\n",
    "    def __init__(self, data):\n",
    "        self.data = data\n",
    "\n",
    "    def __getitem__(self, item):\n",
    "        return self.data[item]\n",
    "\n",
    "    def __len__(self):\n",
    "        return len(self.data)\n",
    "\n",
    "def nn_seq_us(batch_size):\n",
    "    print('data processing...')\n",
    "    dataset = df_use\n",
    "    # split\n",
    "    train = dataset[:int(len(dataset) * 0.6)]\n",
    "    val = dataset[int(len(dataset) * 0.6):int(len(dataset) * 0.85)]\n",
    "    test = dataset[int(len(dataset) * 0.85):len(dataset)]\n",
    "    m, n = np.max(train[train.columns[0]]), np.min(train[train.columns[0]])\n",
    "\n",
    "    def process(data, batch_size, shuffle):\n",
    "        load = data[data.columns[0]]\n",
    "        load = load.tolist()\n",
    "        data = data.values.tolist()\n",
    "        load = (load - n) / (m - n)\n",
    "        seq = []\n",
    "        for i in range(len(data) - 24):\n",
    "            train_seq = []\n",
    "            train_label = []\n",
    "            for j in range(i, i + 24):\n",
    "                x = [load[j]]\n",
    "                train_seq.append(x)\n",
    "            # for c in range(2, 8):\n",
    "            #     train_seq.append(data[i + 24][c])\n",
    "            train_label.append(load[i + 24])\n",
    "            train_seq = torch.FloatTensor(train_seq)\n",
    "            train_label = torch.FloatTensor(train_label).view(-1)\n",
    "            seq.append((train_seq, train_label))\n",
    "\n",
    "        # print(seq[-1])\n",
    "        seq = MyDataset(seq)\n",
    "        seq = DataLoader(dataset=seq, batch_size=batch_size, shuffle=shuffle, num_workers=0, drop_last=True)\n",
    "\n",
    "        return seq\n",
    "\n",
    "    data_train = process(train, batch_size, True)\n",
    "    data_validate = process(val, batch_size, True)\n",
    "    data_test = process(test, batch_size, False)\n",
    "\n",
    "    return data_train, data_validate, data_test, m, n"
   ],
   "metadata": {
    "collapsed": false
   }
  },
  {
   "cell_type": "code",
   "execution_count": 4,
   "outputs": [],
   "source": [
    "from torch.optim.lr_scheduler import StepLR as StepLR\n",
    "from tqdm import tqdm\n",
    "from copy import deepcopy\n",
    "\n",
    "def get_val_loss(model, Val, loss_function, device):\n",
    "    model.eval()\n",
    "    val_loss = []\n",
    "    for (seq, label) in Val:\n",
    "        seq = seq.to(device)\n",
    "        label = label.to(device)\n",
    "        y_pred = model(seq)\n",
    "        loss = loss_function(y_pred, label)\n",
    "        val_loss.append(loss.item())\n",
    "\n",
    "    return sum(val_loss)/len(val_loss)# MSE\n",
    "\n",
    "\n",
    "def cnn_train(data_train, Val, path, optimizer = 'adam', max_epochs = 20, lr = 0.01, device = torch.device(\"cuda:0\" if torch.cuda.is_available() else \"cpu\")):\n",
    "\n",
    "    weight_decay = 0.003\n",
    "    step_size = 5\n",
    "    gamma = 0.1\n",
    "\n",
    "\n",
    "    model = CNN(device).to(device)\n",
    "\n",
    "    loss_function = nn.MSELoss().to(device)\n",
    "    if optimizer == 'adam':\n",
    "        optimizer = torch.optim.Adam(model.parameters(), lr=lr,\n",
    "                                     weight_decay=weight_decay)\n",
    "    else:\n",
    "        optimizer = torch.optim.SGD(model.parameters(), lr=lr,\n",
    "                                    momentum=0.9, weight_decay=weight_decay)\n",
    "    scheduler = StepLR(optimizer, step_size=step_size, gamma=gamma)\n",
    "    # training\n",
    "    min_epochs = 10\n",
    "    best_model = None\n",
    "    min_val_loss = 5\n",
    "    for epoch in range(max_epochs):\n",
    "        train_loss = []\n",
    "        for (seq, label) in data_train:\n",
    "            seq = seq.to(device)\n",
    "            label = label.to(device)\n",
    "            y_pred = model(seq)\n",
    "            loss = loss_function(y_pred, label)\n",
    "            train_loss.append(loss.item())\n",
    "            optimizer.zero_grad()\n",
    "            loss.backward()\n",
    "            optimizer.step()\n",
    "\n",
    "        scheduler.step()\n",
    "        # validation\n",
    "        val_loss = get_val_loss(model, Val, loss_function, device)\n",
    "        if epoch > min_epochs and val_loss < min_val_loss:\n",
    "            min_val_loss = val_loss\n",
    "            best_model = deepcopy(model)\n",
    "\n",
    "        if epoch % 10 == 0:\n",
    "            print('epoch {:03d} train_loss {:.8f} val_loss {:.8f}'.format(epoch, np.mean(train_loss), val_loss))\n",
    "        model.train()\n",
    "\n",
    "    state = {'models': best_model.state_dict()}\n",
    "    torch.save(state, path)"
   ],
   "metadata": {
    "collapsed": false
   }
  },
  {
   "cell_type": "code",
   "execution_count": 6,
   "outputs": [
    {
     "name": "stdout",
     "output_type": "stream",
     "text": [
      "cpu\n",
      "data processing...\n",
      "epoch 000 train_loss 0.00589941 val_loss 0.18465933\n",
      "epoch 010 train_loss 0.00126420 val_loss 0.00958326\n",
      "epoch 020 train_loss 0.00124659 val_loss 0.00906467\n",
      "epoch 030 train_loss 0.00124697 val_loss 0.00908618\n",
      "epoch 040 train_loss 0.00124334 val_loss 0.00908409\n"
     ]
    }
   ],
   "source": [
    "input_size=1\n",
    "hidden_size=10\n",
    "num_layers=3\n",
    "output_size = 1\n",
    "batch_size = 5\n",
    "optimizer = 'adam'\n",
    "max_epochs = 50\n",
    "lr = 0.002\n",
    "lr = 0.01\n",
    "device = torch.device(\"cuda:0\" if torch.cuda.is_available() else \"cpu\")\n",
    "\n",
    "print(device)\n",
    "\n",
    "model_path = './cnn_model/best_model_lstm.model'\n",
    "\n",
    "data_train, data_validate, data_test, m, n = nn_seq_us(batch_size=batch_size)\n",
    "\n",
    "cnn_train(data_train, data_validate, model_path, optimizer, max_epochs, lr, device)"
   ],
   "metadata": {
    "collapsed": false
   }
  },
  {
   "cell_type": "code",
   "execution_count": 10,
   "outputs": [],
   "source": [
    "from itertools import chain\n",
    "import matplotlib.pyplot as plt\n",
    "from scipy.interpolate import make_interp_spline\n",
    "\n",
    "def get_mse(y_true, y_pred):\n",
    "    y_true, y_pred = np.array(y_true), np.array(y_pred)\n",
    "    return np.sum((y_true - y_pred) ** 2) / len(y_true)\n",
    "\n",
    "def get_mape(y_true, y_pred):\n",
    "    y_true, y_pred = np.array(y_true), np.array(y_pred)\n",
    "    return np.mean(np.abs((y_true - y_pred) / y_true)) * 100\n",
    "\n",
    "\n",
    "# def lstm_test(data_test, path, m, n, input_size = 1,  hidden_size = 10, num_layers = 2, output_size = 1, batch_size = 5, device = torch.device('cpu')):\n",
    "def cnn_test(data_test, path, m, n, device):\n",
    "    pred = []\n",
    "    y = []\n",
    "    print('loading models...')\n",
    "\n",
    "    model = CNN(device).to(device)\n",
    "\n",
    "    model.load_state_dict(torch.load(path)['models'])\n",
    "    model.eval()\n",
    "    print('predicting...')\n",
    "    for (seq, target) in data_test:\n",
    "        target = list(chain.from_iterable(target.data.tolist()))\n",
    "        y.extend(target)\n",
    "        seq = seq.to(device)\n",
    "        with torch.no_grad():\n",
    "            y_pred = model(seq)\n",
    "            y_pred = list(chain.from_iterable(y_pred.data.tolist()))\n",
    "            pred.extend(y_pred)\n",
    "\n",
    "    y, pred = np.array(y), np.array(pred)\n",
    "    y = (m - n) * y + n\n",
    "    pred = (m - n) * pred + n\n",
    "    print('mape:', get_mape(y, pred))\n",
    "    print('mse:', get_mse(y, pred))\n",
    "\n",
    "    # plot\n",
    "    x = [i for i in range(1, y.shape[0] + 1)]\n",
    "    x_smooth = np.linspace(np.min(x), np.max(x), 900)\n",
    "    y_smooth = make_interp_spline(x, y)(x_smooth)\n",
    "    plt.plot(x_smooth, y_smooth, c='green', marker='*', ms=1, alpha=0.75, label='true')\n",
    "\n",
    "    y_smooth = make_interp_spline(x, pred)(x_smooth)\n",
    "    plt.plot(x_smooth-1, y_smooth, c='red', marker='o', ms=1, alpha=0.75, label='pred')\n",
    "    plt.grid(axis='y')\n",
    "    plt.legend()\n",
    "    # plt.savefig(\"./new.png\")\n",
    "    plt.show()\n",
    "\n"
   ],
   "metadata": {
    "collapsed": false
   }
  },
  {
   "cell_type": "code",
   "execution_count": 11,
   "outputs": [
    {
     "name": "stdout",
     "output_type": "stream",
     "text": [
      "loading models...\n",
      "predicting...\n",
      "mape: 28.92654826826504\n",
      "mse: 0.0008290668266303764\n"
     ]
    },
    {
     "data": {
      "text/plain": "<Figure size 432x288 with 1 Axes>",
      "image/png": "[encoded data removed]"
     },
     "metadata": {
      "needs_background": "light"
     },
     "output_type": "display_data"
    }
   ],
   "source": [
    "cnn_test(data_test, model_path, m, n, device)"
   ],
   "metadata": {
    "collapsed": false
   }
  },
  {
   "cell_type": "code",
   "execution_count": 9,
   "outputs": [],
   "source": [],
   "metadata": {
    "collapsed": false
   }
  },
  {
   "cell_type": "code",
   "execution_count": 9,
   "outputs": [],
   "source": [],
   "metadata": {
    "collapsed": false
   }
  }
 ],
 "metadata": {
  "kernelspec": {
   "display_name": "Python 3",
   "language": "python",
   "name": "python3"
  },
  "language_info": {
   "codemirror_mode": {
    "name": "ipython",
    "version": 2
   },
   "file_extension": ".py",
   "mimetype": "text/x-python",
   "name": "python",
   "nbconvert_exporter": "python",
   "pygments_lexer": "ipython2",
   "version": "2.7.6"
  }
 },
 "nbformat": 4,
 "nbformat_minor": 0
}
